{
 "cells": [
  {
   "cell_type": "code",
   "execution_count": 13,
   "id": "78860a8d",
   "metadata": {},
   "outputs": [
    {
     "name": "stdout",
     "output_type": "stream",
     "text": [
      "Sample vocab: ['', '[UNK]', np.str_('yang'), np.str_('di'), np.str_('dan'), np.str_('tidak'), np.str_('saya'), np.str_('dengan'), np.str_('enak'), np.str_('ini')]\n",
      "Max index: 2836\n",
      "\n",
      "=== Running bidir: {'n_layers': 3, 'units': [64, 128, 256], 'bidirectional': True}\n",
      "Epoch 1/5\n",
      "\u001b[1m16/16\u001b[0m \u001b[32m━━━━━━━━━━━━━━━━━━━━\u001b[0m\u001b[37m\u001b[0m \u001b[1m6s\u001b[0m 188ms/step - loss: 1.0486 - val_loss: 1.0145\n",
      "Epoch 2/5\n",
      "\u001b[1m16/16\u001b[0m \u001b[32m━━━━━━━━━━━━━━━━━━━━\u001b[0m\u001b[37m\u001b[0m \u001b[1m3s\u001b[0m 161ms/step - loss: 0.8537 - val_loss: 0.8182\n",
      "Epoch 3/5\n",
      "\u001b[1m16/16\u001b[0m \u001b[32m━━━━━━━━━━━━━━━━━━━━\u001b[0m\u001b[37m\u001b[0m \u001b[1m2s\u001b[0m 155ms/step - loss: 0.5560 - val_loss: 0.9192\n",
      "Epoch 4/5\n",
      "\u001b[1m16/16\u001b[0m \u001b[32m━━━━━━━━━━━━━━━━━━━━\u001b[0m\u001b[37m\u001b[0m \u001b[1m2s\u001b[0m 148ms/step - loss: 0.3558 - val_loss: 1.1204\n",
      "Epoch 5/5\n",
      "\u001b[1m16/16\u001b[0m \u001b[32m━━━━━━━━━━━━━━━━━━━━\u001b[0m\u001b[37m\u001b[0m \u001b[1m2s\u001b[0m 153ms/step - loss: 0.2509 - val_loss: 1.1578\n",
      "\u001b[1m13/13\u001b[0m \u001b[32m━━━━━━━━━━━━━━━━━━━━\u001b[0m\u001b[37m\u001b[0m \u001b[1m1s\u001b[0m 65ms/step\n",
      "bidir macro-F1: 0.6050\n"
     ]
    },
    {
     "data": {
      "image/png": "[encoded data removed]",
      "text/plain": [
       "<Figure size 600x400 with 1 Axes>"
      ]
     },
     "metadata": {},
     "output_type": "display_data"
    },
    {
     "name": "stderr",
     "output_type": "stream",
     "text": [
      "/Users/enrique/Projects/Coding/ML-2-8/src/models/lstm/lstm_layer.py:18: RuntimeWarning: divide by zero encountered in matmul\n",
      "  z = xt @ self.W + H @ self.U + self.b\n",
      "/Users/enrique/Projects/Coding/ML-2-8/src/models/lstm/lstm_layer.py:18: RuntimeWarning: overflow encountered in matmul\n",
      "  z = xt @ self.W + H @ self.U + self.b\n",
      "/Users/enrique/Projects/Coding/ML-2-8/src/models/lstm/lstm_layer.py:18: RuntimeWarning: invalid value encountered in matmul\n",
      "  z = xt @ self.W + H @ self.U + self.b\n"
     ]
    },
    {
     "name": "stdout",
     "output_type": "stream",
     "text": [
      "\u001b[1m 3/13\u001b[0m \u001b[32m━━━━\u001b[0m\u001b[37m━━━━━━━━━━━━━━━━\u001b[0m \u001b[1m0s\u001b[0m 58ms/step"
     ]
    },
    {
     "name": "stderr",
     "output_type": "stream",
     "text": [
      "/Users/enrique/Projects/Coding/ML-2-8/src/models/lstm/dense_layer.py:10: RuntimeWarning: divide by zero encountered in matmul\n",
      "  z = x @ self.W + self.b\n",
      "/Users/enrique/Projects/Coding/ML-2-8/src/models/lstm/dense_layer.py:10: RuntimeWarning: overflow encountered in matmul\n",
      "  z = x @ self.W + self.b\n",
      "/Users/enrique/Projects/Coding/ML-2-8/src/models/lstm/dense_layer.py:10: RuntimeWarning: invalid value encountered in matmul\n",
      "  z = x @ self.W + self.b\n"
     ]
    },
    {
     "name": "stdout",
     "output_type": "stream",
     "text": [
      "\u001b[1m13/13\u001b[0m \u001b[32m━━━━━━━━━━━━━━━━━━━━\u001b[0m\u001b[37m\u001b[0m \u001b[1m1s\u001b[0m 63ms/step\n",
      "max|keras - scratch| = 1.847744e-06\n",
      "macro-F1 (scratch): 0.6050\n"
     ]
    },
    {
     "name": "stderr",
     "output_type": "stream",
     "text": [
      "/Users/enrique/Projects/Coding/ML-2-8/src/models/lstm/lstm_layer.py:18: RuntimeWarning: divide by zero encountered in matmul\n",
      "  z = xt @ self.W + H @ self.U + self.b\n",
      "/Users/enrique/Projects/Coding/ML-2-8/src/models/lstm/lstm_layer.py:18: RuntimeWarning: overflow encountered in matmul\n",
      "  z = xt @ self.W + H @ self.U + self.b\n",
      "/Users/enrique/Projects/Coding/ML-2-8/src/models/lstm/lstm_layer.py:18: RuntimeWarning: invalid value encountered in matmul\n",
      "  z = xt @ self.W + H @ self.U + self.b\n"
     ]
    },
    {
     "name": "stdout",
     "output_type": "stream",
     "text": [
      "max|scratch - loaded| = 0.0\n",
      "macro-F1 (scratch loaded): 0.6050\n"
     ]
    },
    {
     "name": "stderr",
     "output_type": "stream",
     "text": [
      "/Users/enrique/Projects/Coding/ML-2-8/src/models/lstm/dense_layer.py:10: RuntimeWarning: divide by zero encountered in matmul\n",
      "  z = x @ self.W + self.b\n",
      "/Users/enrique/Projects/Coding/ML-2-8/src/models/lstm/dense_layer.py:10: RuntimeWarning: overflow encountered in matmul\n",
      "  z = x @ self.W + self.b\n",
      "/Users/enrique/Projects/Coding/ML-2-8/src/models/lstm/dense_layer.py:10: RuntimeWarning: invalid value encountered in matmul\n",
      "  z = x @ self.W + self.b\n"
     ]
    }
   ],
   "source": [
    "import os\n",
    "import random\n",
    "import numpy as np\n",
    "import pandas as pd\n",
    "import tensorflow as tf\n",
    "import torch as tc\n",
    "import matplotlib.pyplot as plt\n",
    "from sklearn.preprocessing import LabelEncoder\n",
    "from sklearn.metrics import f1_score\n",
    "\n",
    "from models.lstm.keras_model import build_lstm_model\n",
    "from models.lstm.scratch_model import ScratchLSTMClassifier\n",
    "from tensorflow.keras.layers import TextVectorization\n",
    "\n",
    "# Set seed\n",
    "SEED = 42\n",
    "os.environ['PYTHONHASHSEED'] = str(SEED)\n",
    "os.environ['TF_DETERMINISTIC_OPS'] = '1'\n",
    "os.environ['TF_CUDNN_DETERMINISTIC'] = '1'\n",
    "random.seed(SEED)\n",
    "np.random.seed(SEED)\n",
    "tf.random.set_seed(SEED)  \n",
    "tc.manual_seed(SEED)\n",
    "tc.backends.cudnn.deterministic = True\n",
    "tc.backends.cudnn.benchmark = False\n",
    "tc.use_deterministic_algorithms(True)\n",
    "tf.config.experimental.enable_op_determinism()\n",
    "\n",
    "\n",
    "train = pd.read_csv('./../data/nusaX-sentiment/train.csv')\n",
    "valid = pd.read_csv('./../data/nusaX-sentiment/valid.csv')\n",
    "test  = pd.read_csv('./../data/nusaX-sentiment/test.csv')\n",
    "\n",
    "le = LabelEncoder()\n",
    "y_train = le.fit_transform(train['label'])\n",
    "y_val   = le.transform(valid['label'])\n",
    "y_test  = le.transform(test['label'])\n",
    "num_classes = len(le.classes_)\n",
    "\n",
    "texts_train = train['text'].astype(str).tolist()\n",
    "texts_val   = valid['text'].astype(str).tolist()\n",
    "texts_test  = test['text'].astype(str).tolist()\n",
    "\n",
    "max_tokens = 20000\n",
    "max_len    = 100\n",
    "embed_dim  = 128\n",
    "\n",
    "vectorizer = TextVectorization(max_tokens=max_tokens, output_sequence_length=max_len)\n",
    "vectorizer.adapt(texts_train)\n",
    "\n",
    "def make_dataset(texts, labels, batch=32, shuffle=True):\n",
    "    x = vectorizer(tf.constant(texts))\n",
    "    ds = tf.data.Dataset.from_tensor_slices((x, labels))\n",
    "    if shuffle: ds = ds.shuffle(1024)\n",
    "    return ds.batch(batch).prefetch(1)\n",
    "\n",
    "print(\"Sample vocab:\", vectorizer.get_vocabulary()[:10])\n",
    "print(\"Max index:\", len(vectorizer.get_vocabulary()))\n",
    "\n",
    "ds_train = make_dataset(texts_train, y_train)\n",
    "ds_val   = make_dataset(texts_val,   y_val,   shuffle=False)\n",
    "ds_test  = make_dataset(texts_test,  y_test,  shuffle=False)\n",
    "\n",
    "# === 3. TRAINING & EVALUASI ===\n",
    "def train_and_eval(params, name):\n",
    "    print(f\"\\n=== Running {name}: {params}\")\n",
    "    model = build_lstm_model(**params, max_len=max_len, max_tokens=max_tokens, embed_dim=embed_dim, num_classes=num_classes)\n",
    "    hist = model.fit(ds_train, validation_data=ds_val, epochs=5, \n",
    "        shuffle=False)\n",
    "    y_pred = np.argmax(model.predict(ds_test), axis=-1)\n",
    "    f1 = f1_score(y_test, y_pred, average='macro')\n",
    "    print(f\"{name} macro-F1: {f1:.4f}\")\n",
    "    return model, hist, f1\n",
    "\n",
    "# EXPERIMENT 1: Jumlah Layer\n",
    "# exp1 = []\n",
    "# for n in [1, 2, 3]:\n",
    "#     config = {'n_layers': n, 'units': [128] * n, 'bidirectional': False}\n",
    "#     m, h, f = train_and_eval(config, f'layers={n}')\n",
    "#     exp1.append((n, h))\n",
    "\n",
    "# # EXPERIMENT 2: Banyak Unit\n",
    "# exp2 = []\n",
    "# for u in [64, 128, 256]:\n",
    "#     config = {'n_layers': 2, 'units': [u, u], 'bidirectional': False}\n",
    "#     m, h, f = train_and_eval(config, f'units={u}')\n",
    "#     exp2.append((u, h))\n",
    "\n",
    "# EXPERIMENT 3: Bidirectional\n",
    "exp3 = []\n",
    "for b in [ True]:\n",
    "    config = {'n_layers': 3, 'units': [64, 128, 256], 'bidirectional': b}\n",
    "    name = \"bidir\" if b else \"unidir\"\n",
    "    m, h, f = train_and_eval(config, name)\n",
    "    exp3.append((name, h))\n",
    "\n",
    "def plot_histories(exps, title):\n",
    "    plt.figure(figsize=(6, 4))\n",
    "    for label, hist in exps:\n",
    "        plt.plot(hist.history['loss'], label=f\"{label}-train\")\n",
    "        plt.plot(hist.history['val_loss'], label=f\"{label}-val\")\n",
    "    plt.title(title)\n",
    "    plt.xlabel('Epoch')\n",
    "    plt.ylabel('Loss')\n",
    "    plt.legend()\n",
    "    plt.show()\n",
    "\n",
    "# plot_histories(exp1, \"Loss vs Jumlah LSTM Layer\")\n",
    "# plot_histories(exp2, \"Loss vs Units\")\n",
    "plot_histories(exp3, \"Loss vs Arah (Bidirectional)\")\n",
    "\n",
    "best_model = m\n",
    "best_model.save_weights('best_lstm.weights.h5')\n",
    "emb_w = best_model.layers[1].get_weights()[0]\n",
    "d_w, d_b = best_model.layers[-1].get_weights()\n",
    "lstm_layers = [ly for ly in best_model.layers if isinstance(ly, (tf.keras.layers.LSTM, tf.keras.layers.Bidirectional))]\n",
    "\n",
    "def unpack_lstm(layer):\n",
    "    if isinstance(layer, tf.keras.layers.Bidirectional):\n",
    "        return_seq = layer.forward_layer.return_sequences\n",
    "        Wf, Uf, bf = layer.forward_layer.get_weights()\n",
    "        Wb, Ub, bb = layer.backward_layer.get_weights()\n",
    "        return ('bidir', return_seq, (Wf, Uf, bf), (Wb, Ub, bb))\n",
    "    else:\n",
    "        return_seq = layer.return_sequences\n",
    "        W, U, b = layer.get_weights()\n",
    "        return ('unidir', return_seq, (W, U, b))\n",
    "\n",
    "scratch_specs = [unpack_lstm(ly) for ly in lstm_layers]\n",
    "scratch_model = ScratchLSTMClassifier(emb_w, scratch_specs, d_w, d_b)\n",
    "\n",
    "texts_all = test['text'].astype(str).tolist()\n",
    "x_int = vectorizer(tf.constant(texts_all)).numpy()\n",
    "pred_scratch = scratch_model.forward(x_int)\n",
    "\n",
    "print(\"max|keras - scratch| =\", np.max(np.abs(best_model.predict(ds_test) - pred_scratch)))\n",
    "yhat_s = np.argmax(pred_scratch, axis=1)\n",
    "f1 = f1_score(y_test, yhat_s, average='macro')\n",
    "print(f\"macro-F1 (scratch): {f1:.4f}\")\n",
    "\n",
    "# try save load\n",
    "scratch_model.save_npy(\"model_lstm_scratch.npy\")\n",
    "\n",
    "scratch_model_loaded = ScratchLSTMClassifier()\n",
    "scratch_model_loaded.load_npy(\"model_lstm_scratch.npy\")\n",
    "\n",
    "pred_scratch_loaded = scratch_model_loaded.forward(x_int)\n",
    "print(\"max|scratch - loaded| =\", np.max(np.abs(pred_scratch - pred_scratch_loaded)))\n",
    "\n",
    "yhat_s_loaded = np.argmax(pred_scratch_loaded, axis=1)\n",
    "f1_loaded = f1_score(y_test, yhat_s_loaded, average='macro')\n",
    "print(f\"macro-F1 (scratch loaded): {f1_loaded:.4f}\")"
   ]
  },
  {
   "cell_type": "code",
   "execution_count": null,
   "id": "e95b646f",
   "metadata": {},
   "outputs": [],
   "source": []
  }
 ],
 "metadata": {
  "kernelspec": {
   "display_name": ".venv",
   "language": "python",
   "name": "python3"
  },
  "language_info": {
   "codemirror_mode": {
    "name": "ipython",
    "version": 3
   },
   "file_extension": ".py",
   "mimetype": "text/x-python",
   "name": "python",
   "nbconvert_exporter": "python",
   "pygments_lexer": "ipython3",
   "version": "3.9.6"
  }
 },
 "nbformat": 4,
 "nbformat_minor": 5
}

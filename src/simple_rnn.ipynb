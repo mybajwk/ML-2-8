{
 "cells": [
  {
   "cell_type": "code",
   "execution_count": 2,
   "id": "30c95f2e",
   "metadata": {},
   "outputs": [
    {
     "name": "stdout",
     "output_type": "stream",
     "text": [
      "Collecting torch\n",
      "  Downloading torch-2.7.0-cp39-none-macosx_11_0_arm64.whl.metadata (29 kB)\n",
      "Collecting filelock (from torch)\n",
      "  Using cached filelock-3.18.0-py3-none-any.whl.metadata (2.9 kB)\n",
      "Requirement already satisfied: typing-extensions>=4.10.0 in /Users/enrique/Projects/Coding/ML-2-8/.venv/lib/python3.9/site-packages (from torch) (4.13.2)\n",
      "Collecting sympy>=1.13.3 (from torch)\n",
      "  Downloading sympy-1.14.0-py3-none-any.whl.metadata (12 kB)\n",
      "Collecting networkx (from torch)\n",
      "  Using cached networkx-3.2.1-py3-none-any.whl.metadata (5.2 kB)\n",
      "Collecting jinja2 (from torch)\n",
      "  Using cached jinja2-3.1.6-py3-none-any.whl.metadata (2.9 kB)\n",
      "Collecting fsspec (from torch)\n",
      "  Using cached fsspec-2025.3.2-py3-none-any.whl.metadata (11 kB)\n",
      "Collecting mpmath<1.4,>=1.1.0 (from sympy>=1.13.3->torch)\n",
      "  Using cached mpmath-1.3.0-py3-none-any.whl.metadata (8.6 kB)\n",
      "Requirement already satisfied: MarkupSafe>=2.0 in /Users/enrique/Projects/Coding/ML-2-8/.venv/lib/python3.9/site-packages (from jinja2->torch) (3.0.2)\n",
      "Downloading torch-2.7.0-cp39-none-macosx_11_0_arm64.whl (68.6 MB)\n",
      "\u001b[2K   \u001b[90m━━━━━━━━━━━━━━━━━━━━━━━━━━━━━━━━━━━━━━━━\u001b[0m \u001b[32m68.6/68.6 MB\u001b[0m \u001b[31m4.5 MB/s\u001b[0m eta \u001b[36m0:00:00\u001b[0m00:01\u001b[0m00:01\u001b[0m\n",
      "\u001b[?25hDownloading sympy-1.14.0-py3-none-any.whl (6.3 MB)\n",
      "\u001b[2K   \u001b[90m━━━━━━━━━━━━━━━━━━━━━━━━━━━━━━━━━━━━━━━━\u001b[0m \u001b[32m6.3/6.3 MB\u001b[0m \u001b[31m6.9 MB/s\u001b[0m eta \u001b[36m0:00:00\u001b[0ma \u001b[36m0:00:01\u001b[0m\n",
      "\u001b[?25hUsing cached mpmath-1.3.0-py3-none-any.whl (536 kB)\n",
      "Using cached filelock-3.18.0-py3-none-any.whl (16 kB)\n",
      "Using cached fsspec-2025.3.2-py3-none-any.whl (194 kB)\n",
      "Using cached jinja2-3.1.6-py3-none-any.whl (134 kB)\n",
      "Using cached networkx-3.2.1-py3-none-any.whl (1.6 MB)\n",
      "Installing collected packages: mpmath, sympy, networkx, jinja2, fsspec, filelock, torch\n",
      "\u001b[2K   \u001b[90m━━━━━━━━━━━━━━━━━━━━━━━━━━━━━━━━━━━━━━━━\u001b[0m \u001b[32m7/7\u001b[0m [torch]32m6/7\u001b[0m [torch]]x]\n",
      "\u001b[1A\u001b[2KSuccessfully installed filelock-3.18.0 fsspec-2025.3.2 jinja2-3.1.6 mpmath-1.3.0 networkx-3.2.1 sympy-1.14.0 torch-2.7.0\n"
     ]
    }
   ],
   "source": [
    "!pip install torch"
   ]
  },
  {
   "cell_type": "code",
   "execution_count": null,
   "id": "3e5bfab6",
   "metadata": {},
   "outputs": [
    {
     "name": "stdout",
     "output_type": "stream",
     "text": [
      "Epoch 1/5\n"
     ]
    },
    {
     "name": "stderr",
     "output_type": "stream",
     "text": [
      "/Users/enrique/Projects/Coding/ML-2-8/.venv/lib/python3.9/site-packages/keras/src/layers/core/embedding.py:90: UserWarning: Argument `input_length` is deprecated. Just remove it.\n",
      "  warnings.warn(\n",
      "2025-05-15 09:43:15.856347: E tensorflow/core/framework/node_def_util.cc:680] NodeDef mentions attribute use_unbounded_threadpool which is not in the op definition: Op<name=MapDataset; signature=input_dataset:variant, other_arguments: -> handle:variant; attr=f:func; attr=Targuments:list(type),min=0; attr=output_types:list(type),min=1; attr=output_shapes:list(shape),min=1; attr=use_inter_op_parallelism:bool,default=true; attr=preserve_cardinality:bool,default=false; attr=force_synchronous:bool,default=false; attr=metadata:string,default=\"\"> This may be expected if your graph generating binary is newer  than this binary. Unknown attributes will be ignored. NodeDef: {{node ParallelMapDatasetV2/_15}}\n",
      "2025-05-15 09:43:15.856620: E tensorflow/core/framework/node_def_util.cc:680] NodeDef mentions attribute use_unbounded_threadpool which is not in the op definition: Op<name=MapDataset; signature=input_dataset:variant, other_arguments: -> handle:variant; attr=f:func; attr=Targuments:list(type),min=0; attr=output_types:list(type),min=1; attr=output_shapes:list(shape),min=1; attr=use_inter_op_parallelism:bool,default=true; attr=preserve_cardinality:bool,default=false; attr=force_synchronous:bool,default=false; attr=metadata:string,default=\"\"> This may be expected if your graph generating binary is newer  than this binary. Unknown attributes will be ignored. NodeDef: {{node ParallelMapDatasetV2/_15}}\n"
     ]
    },
    {
     "name": "stdout",
     "output_type": "stream",
     "text": [
      "\u001b[1m8/8\u001b[0m \u001b[32m━━━━━━━━━━━━━━━━━━━━\u001b[0m\u001b[37m\u001b[0m \u001b[1m1s\u001b[0m 33ms/step - accuracy: 0.3871 - loss: 1.0881 - val_accuracy: 0.4900 - val_loss: 1.0498\n",
      "Epoch 2/5\n",
      "\u001b[1m8/8\u001b[0m \u001b[32m━━━━━━━━━━━━━━━━━━━━\u001b[0m\u001b[37m\u001b[0m \u001b[1m0s\u001b[0m 15ms/step - accuracy: 0.5115 - loss: 1.0047 - val_accuracy: 0.5300 - val_loss: 0.9728\n",
      "Epoch 3/5\n",
      "\u001b[1m8/8\u001b[0m \u001b[32m━━━━━━━━━━━━━━━━━━━━\u001b[0m\u001b[37m\u001b[0m \u001b[1m0s\u001b[0m 16ms/step - accuracy: 0.5869 - loss: 0.8676 - val_accuracy: 0.4200 - val_loss: 1.0322\n",
      "Epoch 4/5\n",
      "\u001b[1m8/8\u001b[0m \u001b[32m━━━━━━━━━━━━━━━━━━━━\u001b[0m\u001b[37m\u001b[0m \u001b[1m0s\u001b[0m 16ms/step - accuracy: 0.7352 - loss: 0.7475 - val_accuracy: 0.5500 - val_loss: 0.9809\n",
      "Epoch 5/5\n",
      "\u001b[1m8/8\u001b[0m \u001b[32m━━━━━━━━━━━━━━━━━━━━\u001b[0m\u001b[37m\u001b[0m \u001b[1m0s\u001b[0m 15ms/step - accuracy: 0.8537 - loss: 0.5651 - val_accuracy: 0.5600 - val_loss: 0.9117\n",
      "Saved full model to model_simple_rnn.npy\n",
      "\u001b[1m13/13\u001b[0m \u001b[32m━━━━━━━━━━━━━━━━━━━━\u001b[0m\u001b[37m\u001b[0m \u001b[1m0s\u001b[0m 8ms/step\n",
      "Keras  F1-score:   0.5428\n",
      "Manual F1-score:  0.5428\n"
     ]
    }
   ],
   "source": [
    "import os\n",
    "import random\n",
    "import pandas as pd\n",
    "import numpy as np\n",
    "import torch as tc\n",
    "from sklearn.metrics import f1_score\n",
    "from models.rnn.simple_rnn_keras import SimpleRNNKeras\n",
    "from models.rnn.simple_rnn_manual import SimpleRNNManual\n",
    "from helper.text_vectorization import TextPreprocessor\n",
    "import tensorflow as tf\n",
    "\n",
    "SEED = 42\n",
    "os.environ['PYTHONHASHSEED'] = str(SEED)\n",
    "os.environ['TF_DETERMINISTIC_OPS'] = '1'\n",
    "random.seed(SEED)\n",
    "np.random.seed(SEED)\n",
    "tf.random.set_seed(SEED)  \n",
    "tc.manual_seed(SEED)\n",
    "tc.backends.cudnn.deterministic = True\n",
    "tc.backends.cudnn.benchmark = False\n",
    "tc.use_deterministic_algorithms(True)\n",
    "\n",
    "\n",
    "train_df = pd.read_csv(\"../data/nusaX-sentiment/train.csv\")\n",
    "valid_df = pd.read_csv(\"../data/nusaX-sentiment/valid.csv\")\n",
    "test_df  = pd.read_csv(\"../data/nusaX-sentiment/test.csv\")\n",
    "\n",
    "label_map = {'negative': 0, 'neutral': 1, 'positive': 2}\n",
    "\n",
    "y_train = train_df[\"label\"].map(label_map).values.astype(np.int32)\n",
    "y_valid = valid_df[\"label\"].map(label_map).values.astype(np.int32)\n",
    "y_test  = test_df[\"label\"].map(label_map).values.astype(np.int32)\n",
    "\n",
    "\n",
    "prep = TextPreprocessor(max_vocab=10000, max_len=100)\n",
    "prep.adapt(train_df[\"text\"])\n",
    "\n",
    "X_train = prep.transform(train_df[\"text\"])\n",
    "X_valid = prep.transform(valid_df[\"text\"])\n",
    "X_test  = prep.transform(test_df[\"text\"])\n",
    "\n",
    "\n",
    "model_keras = SimpleRNNKeras(\n",
    "    max_vocab=10000,\n",
    "    max_len=100,\n",
    "    rnn_units=[64],\n",
    "    dense_units=[32, 3],\n",
    "    dense_activations=['relu', 'softmax'],\n",
    "    bidirectional=True\n",
    ")\n",
    "\n",
    "model_keras.set_vectorized_data(\n",
    "    X_train=X_train,\n",
    "    y_train=y_train,\n",
    "    X_valid=X_valid,\n",
    "    y_valid=y_valid,\n",
    "    X_test=X_test,\n",
    "    y_test=y_test\n",
    ")\n",
    "\n",
    "model_keras.build_model()\n",
    "model_keras.train(epochs=5)\n",
    "model_keras.save_full_npz(\"model_simple_rnn.npy\")\n",
    "\n",
    "\n",
    "model_manual = SimpleRNNManual()\n",
    "model_manual.load_full_npz(\"model_simple_rnn.npy\")\n",
    "\n",
    "X_test_tensor = tc.tensor(X_test.numpy(), dtype=tc.long)\n",
    "y_test_tensor = tc.tensor(y_test, dtype=tc.long)\n",
    "\n",
    "\n",
    "y_pred_keras = model_keras.model.predict(X_test)\n",
    "y_pred_keras = y_pred_keras.argmax(axis=1)\n",
    "\n",
    "y_pred_manual = model_manual.predict(X_test_tensor).cpu().numpy()\n",
    "\n",
    "f1_keras = f1_score(y_test, y_pred_keras, average='macro')\n",
    "f1_manual = f1_score(y_test, y_pred_manual, average='macro')\n",
    "\n",
    "print(f\"Keras  F1-score:   {f1_keras:.4f}\")\n",
    "print(f\"Manual F1-score:  {f1_manual:.4f}\")\n"
   ]
  }
 ],
 "metadata": {
  "kernelspec": {
   "display_name": ".venv",
   "language": "python",
   "name": "python3"
  },
  "language_info": {
   "codemirror_mode": {
    "name": "ipython",
    "version": 3
   },
   "file_extension": ".py",
   "mimetype": "text/x-python",
   "name": "python",
   "nbconvert_exporter": "python",
   "pygments_lexer": "ipython3",
   "version": "3.9.6"
  }
 },
 "nbformat": 4,
 "nbformat_minor": 5
}

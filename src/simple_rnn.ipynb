{
 "cells": [
  {
   "cell_type": "code",
   "execution_count": null,
   "id": "3e5bfab6",
   "metadata": {},
   "outputs": [
    {
     "name": "stdout",
     "output_type": "stream",
     "text": [
      "Epoch 1/5\n"
     ]
    },
    {
     "name": "stderr",
     "output_type": "stream",
     "text": [
      "c:\\Users\\Otzzu\\Documents\\ML-2-8\\.venv\\Lib\\site-packages\\keras\\src\\layers\\core\\embedding.py:90: UserWarning: Argument `input_length` is deprecated. Just remove it.\n",
      "  warnings.warn(\n"
     ]
    },
    {
     "name": "stdout",
     "output_type": "stream",
     "text": [
      "\u001b[1m8/8\u001b[0m \u001b[32m━━━━━━━━━━━━━━━━━━━━\u001b[0m\u001b[37m\u001b[0m \u001b[1m2s\u001b[0m 52ms/step - accuracy: 0.3602 - loss: 1.1090 - val_accuracy: 0.4200 - val_loss: 1.0601\n",
      "Epoch 2/5\n",
      "\u001b[1m8/8\u001b[0m \u001b[32m━━━━━━━━━━━━━━━━━━━━\u001b[0m\u001b[37m\u001b[0m \u001b[1m0s\u001b[0m 21ms/step - accuracy: 0.5512 - loss: 0.9720 - val_accuracy: 0.4800 - val_loss: 0.9684\n",
      "Epoch 3/5\n",
      "\u001b[1m8/8\u001b[0m \u001b[32m━━━━━━━━━━━━━━━━━━━━\u001b[0m\u001b[37m\u001b[0m \u001b[1m0s\u001b[0m 22ms/step - accuracy: 0.5701 - loss: 0.8857 - val_accuracy: 0.5000 - val_loss: 1.0225\n",
      "Epoch 4/5\n",
      "\u001b[1m8/8\u001b[0m \u001b[32m━━━━━━━━━━━━━━━━━━━━\u001b[0m\u001b[37m\u001b[0m \u001b[1m0s\u001b[0m 23ms/step - accuracy: 0.7719 - loss: 0.6851 - val_accuracy: 0.5000 - val_loss: 0.9642\n",
      "Epoch 5/5\n",
      "\u001b[1m8/8\u001b[0m \u001b[32m━━━━━━━━━━━━━━━━━━━━\u001b[0m\u001b[37m\u001b[0m \u001b[1m0s\u001b[0m 23ms/step - accuracy: 0.8999 - loss: 0.4893 - val_accuracy: 0.5200 - val_loss: 0.9659\n",
      "Saved full model to model_simple_rnn.npy\n",
      "\u001b[1m13/13\u001b[0m \u001b[32m━━━━━━━━━━━━━━━━━━━━\u001b[0m\u001b[37m\u001b[0m \u001b[1m0s\u001b[0m 14ms/step\n",
      "Keras  F1-score:   0.4929\n",
      "Manual F1-score:  0.4929\n"
     ]
    }
   ],
   "source": [
    "\n",
    "import pandas as pd\n",
    "import numpy as np\n",
    "import torch as tc\n",
    "from sklearn.metrics import f1_score\n",
    "from models.rnn.simple_rnn_keras import SimpleRNNKeras\n",
    "from models.rnn.simple_rnn_manual import SimpleRNNManual\n",
    "from helper.text_vectorization import TextPreprocessor\n",
    "\n",
    "\n",
    "train_df = pd.read_csv(\"../data/nusaX-sentiment/train.csv\")\n",
    "valid_df = pd.read_csv(\"../data/nusaX-sentiment/valid.csv\")\n",
    "test_df  = pd.read_csv(\"../data/nusaX-sentiment/test.csv\")\n",
    "\n",
    "label_map = {'negative': 0, 'neutral': 1, 'positive': 2}\n",
    "\n",
    "y_train = train_df[\"label\"].map(label_map).values.astype(np.int32)\n",
    "y_valid = valid_df[\"label\"].map(label_map).values.astype(np.int32)\n",
    "y_test  = test_df[\"label\"].map(label_map).values.astype(np.int32)\n",
    "\n",
    "\n",
    "prep = TextPreprocessor(max_vocab=10000, max_len=100)\n",
    "prep.adapt(train_df[\"text\"])\n",
    "\n",
    "X_train = prep.transform(train_df[\"text\"])\n",
    "X_valid = prep.transform(valid_df[\"text\"])\n",
    "X_test  = prep.transform(test_df[\"text\"])\n",
    "\n",
    "\n",
    "model_keras = SimpleRNNKeras(\n",
    "    max_vocab=10000,\n",
    "    max_len=100,\n",
    "    rnn_units=[64],\n",
    "    dense_units=[32, 3],\n",
    "    dense_activations=['relu', 'softmax'],\n",
    "    bidirectional=True\n",
    ")\n",
    "\n",
    "model_keras.set_vectorized_data(\n",
    "    X_train=X_train,\n",
    "    y_train=y_train,\n",
    "    X_valid=X_valid,\n",
    "    y_valid=y_valid,\n",
    "    X_test=X_test,\n",
    "    y_test=y_test\n",
    ")\n",
    "\n",
    "model_keras.build_model()\n",
    "model_keras.train(epochs=5)\n",
    "model_keras.save_full_npz(\"model_simple_rnn.npy\")\n",
    "\n",
    "\n",
    "model_manual = SimpleRNNManual()\n",
    "model_manual.load_full_npz(\"model_simple_rnn.npy\")\n",
    "\n",
    "X_test_tensor = tc.tensor(X_test.numpy(), dtype=tc.long)\n",
    "y_test_tensor = tc.tensor(y_test, dtype=tc.long)\n",
    "\n",
    "\n",
    "y_pred_keras = model_keras.model.predict(X_test)\n",
    "y_pred_keras = y_pred_keras.argmax(axis=1)\n",
    "\n",
    "y_pred_manual = model_manual.predict(X_test_tensor).cpu().numpy()\n",
    "\n",
    "f1_keras = f1_score(y_test, y_pred_keras, average='macro')\n",
    "f1_manual = f1_score(y_test, y_pred_manual, average='macro')\n",
    "\n",
    "print(f\"Keras  F1-score:   {f1_keras:.4f}\")\n",
    "print(f\"Manual F1-score:  {f1_manual:.4f}\")\n"
   ]
  }
 ],
 "metadata": {
  "kernelspec": {
   "display_name": ".venv",
   "language": "python",
   "name": "python3"
  },
  "language_info": {
   "codemirror_mode": {
    "name": "ipython",
    "version": 3
   },
   "file_extension": ".py",
   "mimetype": "text/x-python",
   "name": "python",
   "nbconvert_exporter": "python",
   "pygments_lexer": "ipython3",
   "version": "3.11.9"
  }
 },
 "nbformat": 4,
 "nbformat_minor": 5
}
